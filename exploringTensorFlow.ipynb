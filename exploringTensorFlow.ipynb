{
 "metadata": {
  "language_info": {
   "codemirror_mode": {
    "name": "ipython",
    "version": 3
   },
   "file_extension": ".py",
   "mimetype": "text/x-python",
   "name": "python",
   "nbconvert_exporter": "python",
   "pygments_lexer": "ipython3",
   "version": "3.8.2-final"
  },
  "orig_nbformat": 2,
  "kernelspec": {
   "name": "python3",
   "display_name": "Python 3",
   "language": "python"
  }
 },
 "nbformat": 4,
 "nbformat_minor": 2,
 "cells": [
  {
   "cell_type": "code",
   "execution_count": 1,
   "metadata": {},
   "outputs": [],
   "source": [
    "import numpy as np\n",
    "import tensorflow as tf"
   ]
  },
  {
   "cell_type": "code",
   "execution_count": 2,
   "metadata": {},
   "outputs": [],
   "source": [
    "import tensorflow_datasets as tfds"
   ]
  },
  {
   "cell_type": "code",
   "execution_count": 3,
   "metadata": {},
   "outputs": [],
   "source": [
    "mnist_data, mnist_info = tfds.load(\"mnist\", with_info=True, as_supervised=True)"
   ]
  },
  {
   "cell_type": "code",
   "execution_count": 4,
   "metadata": {},
   "outputs": [],
   "source": [
    "mnist_test, mnist_train = mnist_data['test'], mnist_data['train']"
   ]
  },
  {
   "cell_type": "code",
   "execution_count": 5,
   "metadata": {},
   "outputs": [],
   "source": [
    "num_val_samples = int(0.1*mnist_info.splits['train'].num_examples)\n",
    "num_test_samples = int(mnist_info.splits['test'].num_examples)"
   ]
  },
  {
   "cell_type": "code",
   "execution_count": 6,
   "metadata": {},
   "outputs": [],
   "source": [
    "def scaling(image, label):\n",
    "    image = tf.cast(image, tf.float32)\n",
    "    image /= 255.0                          #normalizing pixel values\n",
    "    return (image, label)"
   ]
  },
  {
   "cell_type": "code",
   "execution_count": 7,
   "metadata": {},
   "outputs": [],
   "source": [
    "mnist_train = mnist_train.map(scaling)\n",
    "mnist_test = mnist_test.map(scaling)"
   ]
  },
  {
   "cell_type": "code",
   "execution_count": 8,
   "metadata": {},
   "outputs": [],
   "source": [
    "BUFFER_SIZE = 10000 #used to shuffle large datasets chunk by chunk\n",
    "\n",
    "mnist_train = mnist_train.shuffle(BUFFER_SIZE)"
   ]
  },
  {
   "cell_type": "code",
   "execution_count": 9,
   "metadata": {},
   "outputs": [],
   "source": [
    "valid = mnist_train.take(num_val_samples)\n",
    "train = mnist_train.skip(num_val_samples)"
   ]
  },
  {
   "cell_type": "code",
   "execution_count": 10,
   "metadata": {},
   "outputs": [],
   "source": [
    "BATCH_SIZE = 100\n",
    "\n",
    "train = train.batch(BATCH_SIZE) #chunks for optimizing computation power during backprop"
   ]
  },
  {
   "cell_type": "code",
   "execution_count": 11,
   "metadata": {},
   "outputs": [],
   "source": [
    "valid = valid.batch(num_val_samples) #single batch for validation"
   ]
  },
  {
   "cell_type": "code",
   "execution_count": 12,
   "metadata": {},
   "outputs": [],
   "source": [
    "test = mnist_test.batch(num_test_samples)"
   ]
  },
  {
   "cell_type": "code",
   "execution_count": 13,
   "metadata": {},
   "outputs": [],
   "source": [
    "validX, validY = next(iter(valid))"
   ]
  },
  {
   "cell_type": "code",
   "execution_count": 18,
   "metadata": {},
   "outputs": [],
   "source": [
    "input_size = 784\n",
    "hidden_layer_size = 50\n",
    "output_size = 10\n",
    "\n",
    "model = tf.keras.Sequential([\n",
    "                            tf.keras.layers.Flatten(input_shape=(28,28,1)),\n",
    "                            tf.keras.layers.Dense(hidden_layer_size, activation = 'relu'),\n",
    "                            tf.keras.layers.Dense(hidden_layer_size, activation = 'relu'),\n",
    "                            # tf.keras.layers.Dense(hidden_layer_size, activation = 'relu'),\n",
    "                            tf.keras.layers.Dense(output_size, activation = 'softmax')\n",
    "                            ])\n",
    "\n",
    "                        "
   ]
  },
  {
   "cell_type": "code",
   "execution_count": 19,
   "metadata": {},
   "outputs": [],
   "source": [
    "model.compile(optimizer='adam', loss='sparse_categorical_crossentropy', metrics=['accuracy'])"
   ]
  },
  {
   "cell_type": "code",
   "execution_count": 20,
   "metadata": {},
   "outputs": [
    {
     "output_type": "stream",
     "name": "stdout",
     "text": [
      "Epoch 1/10\n",
      "270/270 - 4s - loss: 0.5300 - accuracy: 0.8465 - val_loss: 0.2440 - val_accuracy: 0.9297\n",
      "Epoch 2/10\n",
      "270/270 - 3s - loss: 0.2127 - accuracy: 0.9388 - val_loss: 0.1720 - val_accuracy: 0.9475\n",
      "Epoch 3/10\n",
      "270/270 - 3s - loss: 0.1661 - accuracy: 0.9514 - val_loss: 0.1456 - val_accuracy: 0.9573\n",
      "Epoch 4/10\n",
      "270/270 - 3s - loss: 0.1375 - accuracy: 0.9594 - val_loss: 0.1181 - val_accuracy: 0.9628\n",
      "Epoch 5/10\n",
      "270/270 - 3s - loss: 0.1180 - accuracy: 0.9653 - val_loss: 0.1026 - val_accuracy: 0.9695\n",
      "Epoch 6/10\n",
      "270/270 - 3s - loss: 0.1032 - accuracy: 0.9695 - val_loss: 0.0973 - val_accuracy: 0.9712\n",
      "Epoch 7/10\n",
      "270/270 - 3s - loss: 0.0911 - accuracy: 0.9731 - val_loss: 0.0816 - val_accuracy: 0.9760\n",
      "Epoch 8/10\n",
      "270/270 - 3s - loss: 0.0823 - accuracy: 0.9759 - val_loss: 0.0815 - val_accuracy: 0.9758\n",
      "Epoch 9/10\n",
      "270/270 - 3s - loss: 0.0747 - accuracy: 0.9777 - val_loss: 0.0735 - val_accuracy: 0.9770\n",
      "Epoch 10/10\n",
      "270/270 - 4s - loss: 0.0685 - accuracy: 0.9794 - val_loss: 0.0696 - val_accuracy: 0.9790\n"
     ]
    },
    {
     "output_type": "execute_result",
     "data": {
      "text/plain": [
       "<tensorflow.python.keras.callbacks.History at 0x1416fe1c0>"
      ]
     },
     "metadata": {},
     "execution_count": 20
    }
   ],
   "source": [
    "NUM_EPOCHS = 10\n",
    "\n",
    "model.fit(train, epochs=NUM_EPOCHS, validation_data = (validX, validY), verbose=2)\n",
    "\n"
   ]
  },
  {
   "cell_type": "code",
   "execution_count": 17,
   "metadata": {},
   "outputs": [
    {
     "output_type": "stream",
     "name": "stdout",
     "text": [
      "1/1 [==============================] - 1s 1s/step - loss: 0.0692 - accuracy: 0.9831\n"
     ]
    }
   ],
   "source": [
    "test_loss, test_acc = model.evaluate(test)"
   ]
  },
  {
   "cell_type": "code",
   "execution_count": null,
   "metadata": {},
   "outputs": [],
   "source": []
  }
 ]
}